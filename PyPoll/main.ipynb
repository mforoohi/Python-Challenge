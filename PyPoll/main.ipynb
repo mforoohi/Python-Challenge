{
 "cells": [
  {
   "cell_type": "code",
   "execution_count": 41,
   "id": "e1ea7a53",
   "metadata": {},
   "outputs": [],
   "source": [
    "import os\n",
    "import os.path\n",
    "import csv\n",
    "from collections import Counter\n",
    "import pprint"
   ]
  },
  {
   "cell_type": "code",
   "execution_count": 42,
   "id": "13ca2cf3",
   "metadata": {},
   "outputs": [
    {
     "data": {
      "text/plain": [
       "'Resources/election_data.csv'"
      ]
     },
     "execution_count": 42,
     "metadata": {},
     "output_type": "execute_result"
    }
   ],
   "source": [
    "data_path=os.path.join('Resources' , 'election_data.csv')\n",
    "data_path"
   ]
  },
  {
   "cell_type": "code",
   "execution_count": 43,
   "id": "427dbf38",
   "metadata": {},
   "outputs": [],
   "source": [
    "voter_id=[]\n",
    "country=[]\n",
    "candidate=[]\n",
    "counter={}"
   ]
  },
  {
   "cell_type": "code",
   "execution_count": 44,
   "id": "ba42632a",
   "metadata": {},
   "outputs": [
    {
     "name": "stdout",
     "output_type": "stream",
     "text": [
      "Election Results\n",
      "---------------------\n",
      "Total Votes: 3521001\n",
      "---------------------\n",
      "Correy: 20.0%,(704200)\n",
      "Khan: 63.0%,(2218231)\n",
      "Li: 14.0%,(492940)\n",
      "O'Tooley:3.0%,105630\n",
      "---------------------\n",
      "Winner: Khan\n"
     ]
    }
   ],
   "source": [
    "with open (data_path) as election_data:\n",
    "    \n",
    "    csvreader=csv.reader(election_data,delimiter=',')\n",
    "    header=next(csvreader)\n",
    "    \n",
    "    for row in csvreader:\n",
    "        voter_id.append(row[0])\n",
    "   # \n",
    "        country.append(row[1])\n",
    "        candidate.append(row[2])\n",
    "        \n",
    "    counter = Counter(candidate)\n",
    "\n",
    "   # pprint.pprint(dict(counter),width=1)\n",
    "   \n",
    "\n",
    "Correy_percent=round((counter['Correy']/len(voter_id))*100,3)\n",
    "\n",
    "Khan_percent=round((counter['Khan']/len(voter_id))*100,3)\n",
    "\n",
    "Li_percent=round((counter['Li']/len(voter_id))*100,3)\n",
    "\n",
    "Tooley_percent=round((counter[\"O'Tooley\"]/len(voter_id))*100,3)\n",
    "\n",
    "cnt_O= counter[\"O'Tooley\"]\n",
    "#winner\n",
    "winner = max(counter,key=counter.get)\n",
    "\n",
    "print(\"Election Results\")\n",
    "print(\"---------------------\")\n",
    "print(f\"Total Votes: {len(voter_id)}\")\n",
    "print(\"---------------------\")\n",
    "print(f\"Correy: {Correy_percent}%,({counter['Correy']})\")\n",
    "print(f\"Khan: {Khan_percent}%,({counter['Khan']})\")\n",
    "print(f\"Li: {Li_percent}%,({counter['Li']})\")\n",
    "print(f\"O'Tooley:{Tooley_percent}%,{ cnt_O}\")\n",
    "print(\"---------------------\")\n",
    "print(f\"Winner: {winner}\")"
   ]
  },
  {
   "cell_type": "code",
   "execution_count": 45,
   "id": "9d40d22c",
   "metadata": {},
   "outputs": [],
   "source": [
    "\n",
    "result=os.path.join('analysis','result.txt')\n",
    "\n",
    "with open (result,\"w\")as new:\n",
    "    new.write(\"Election Results\")\n",
    "    new.write(\"\\n\")\n",
    "    new.write(\"---------------------\")\n",
    "    new.write(\"\\n\")\n",
    "    new.write(f\"Total Votes: {len(voter_id)}\")\n",
    "    new.write(\"\\n\")\n",
    "    new.write(\"---------------------\")\n",
    "    new.write(\"\\n\")\n",
    "    new.write(f\"Correy: {Correy_percent}%,({counter['Correy']})\")\n",
    "    new.write(\"\\n\")\n",
    "    new.write(f\"Khan: {Khan_percent}%,({counter['Khan']})\")\n",
    "    new.write(\"\\n\")\n",
    "    new.write(f\"Li: {Li_percent}%,({counter['Li']})\")\n",
    "    new.write(\"\\n\")\n",
    "#new.write(F\"\"\"O'Tooley:\"{Tooley_percent}\"%\"({counter[\"O'Tooley\"]}\"\"\"))\n",
    "    new.write(\"\\n\")\n",
    "    new.write(\"---------------------\")\n",
    "    new.write(\"\\n\")\n",
    "    new.write(f\"Winner: {winner}\")"
   ]
  },
  {
   "cell_type": "code",
   "execution_count": null,
   "id": "47bdba5d",
   "metadata": {},
   "outputs": [],
   "source": []
  }
 ],
 "metadata": {
  "kernelspec": {
   "display_name": "Python 3",
   "language": "python",
   "name": "python3"
  },
  "language_info": {
   "codemirror_mode": {
    "name": "ipython",
    "version": 3
   },
   "file_extension": ".py",
   "mimetype": "text/x-python",
   "name": "python",
   "nbconvert_exporter": "python",
   "pygments_lexer": "ipython3",
   "version": "3.8.8"
  }
 },
 "nbformat": 4,
 "nbformat_minor": 5
}
