{
 "cells": [
  {
   "cell_type": "code",
   "execution_count": 8,
   "id": "936e485a",
   "metadata": {},
   "outputs": [],
   "source": [
    "import os\n",
    "import csv "
   ]
  },
  {
   "cell_type": "code",
   "execution_count": 9,
   "id": "2b564eeb",
   "metadata": {},
   "outputs": [
    {
     "data": {
      "text/plain": [
       "'../Resorses/Homework_03-Python_Instructions_PyBank_Resources_budget_data.csv'"
      ]
     },
     "execution_count": 9,
     "metadata": {},
     "output_type": "execute_result"
    }
   ],
   "source": [
    "budget_data_path=os.path.join(\"..\",\"Resorses\",\"Homework_03-Python_Instructions_PyBank_Resources_budget_data.csv\")\n",
    "budget_data_path"
   ]
  },
  {
   "cell_type": "code",
   "execution_count": 10,
   "id": "9f72b30b",
   "metadata": {},
   "outputs": [
    {
     "ename": "FileNotFoundError",
     "evalue": "[Errno 2] No such file or directory: '../Resorses/Homework_03-Python_Instructions_PyBank_Resources_budget_data.csv'",
     "output_type": "error",
     "traceback": [
      "\u001b[0;31m---------------------------------------------------------------------------\u001b[0m",
      "\u001b[0;31mFileNotFoundError\u001b[0m                         Traceback (most recent call last)",
      "\u001b[0;32m<ipython-input-10-b87b0104930a>\u001b[0m in \u001b[0;36m<module>\u001b[0;34m\u001b[0m\n\u001b[0;32m----> 1\u001b[0;31m \u001b[0;32mwith\u001b[0m \u001b[0mopen\u001b[0m \u001b[0;34m(\u001b[0m\u001b[0mbudget_data_path\u001b[0m\u001b[0;34m)\u001b[0m \u001b[0;32mas\u001b[0m \u001b[0mbank_data\u001b[0m\u001b[0;34m:\u001b[0m\u001b[0;34m\u001b[0m\u001b[0;34m\u001b[0m\u001b[0m\n\u001b[0m\u001b[1;32m      2\u001b[0m \u001b[0;34m\u001b[0m\u001b[0m\n\u001b[1;32m      3\u001b[0m     \u001b[0mprint\u001b[0m\u001b[0;34m(\u001b[0m\u001b[0mbank_data\u001b[0m\u001b[0;34m)\u001b[0m\u001b[0;34m\u001b[0m\u001b[0;34m\u001b[0m\u001b[0m\n",
      "\u001b[0;31mFileNotFoundError\u001b[0m: [Errno 2] No such file or directory: '../Resorses/Homework_03-Python_Instructions_PyBank_Resources_budget_data.csv'"
     ]
    }
   ],
   "source": [
    "with open (budget_data_path) as bank_data:\n",
    "    csvreader=csv.reader(bank_data,delimiter\",\")\n",
    "    print(bank_data)"
   ]
  },
  {
   "cell_type": "code",
   "execution_count": null,
   "id": "99ee6981",
   "metadata": {},
   "outputs": [],
   "source": []
  }
 ],
 "metadata": {
  "kernelspec": {
   "display_name": "Python 3",
   "language": "python",
   "name": "python3"
  },
  "language_info": {
   "codemirror_mode": {
    "name": "ipython",
    "version": 3
   },
   "file_extension": ".py",
   "mimetype": "text/x-python",
   "name": "python",
   "nbconvert_exporter": "python",
   "pygments_lexer": "ipython3",
   "version": "3.8.8"
  }
 },
 "nbformat": 4,
 "nbformat_minor": 5
}
