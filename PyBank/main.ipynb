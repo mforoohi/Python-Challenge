{
 "cells": [
  {
   "cell_type": "code",
   "execution_count": 7,
   "id": "936e485a",
   "metadata": {},
   "outputs": [],
   "source": [
    "import os\n",
    "import csv \n",
    "from statistics import mean"
   ]
  },
  {
   "cell_type": "code",
   "execution_count": 8,
   "id": "2b564eeb",
   "metadata": {},
   "outputs": [],
   "source": [
    "budget_data_path=os.path.join('Resources','budget_data.csv')"
   ]
  },
  {
   "cell_type": "code",
   "execution_count": 9,
   "id": "53299866",
   "metadata": {},
   "outputs": [],
   "source": [
    "date=[]\n",
    "profit=[]\n",
    "profit_change=[]"
   ]
  },
  {
   "cell_type": "code",
   "execution_count": 10,
   "id": "9f72b30b",
   "metadata": {},
   "outputs": [
    {
     "ename": "SyntaxError",
     "evalue": "invalid syntax (<ipython-input-10-a87dc73c59f9>, line 12)",
     "output_type": "error",
     "traceback": [
      "\u001b[0;36m  File \u001b[0;32m\"<ipython-input-10-a87dc73c59f9>\"\u001b[0;36m, line \u001b[0;32m12\u001b[0m\n\u001b[0;31m    for i in range(len(profit)-1):\u001b[0m\n\u001b[0m                                 ^\u001b[0m\n\u001b[0;31mSyntaxError\u001b[0m\u001b[0;31m:\u001b[0m invalid syntax\n"
     ]
    }
   ],
   "source": [
    "with open (budget_data_path) as bank_data_file:\n",
    "    csvreader=csv.reader(bank_data_file, delimiter=',')\n",
    "    header=next(csvreader)\n",
    "    \n",
    "    for row in csvreader:\n",
    "            \n",
    "        date.append(row[0])\n",
    "    \n",
    "#total_revenue\n",
    "        profit.append(int(row[1])\n",
    "#avrage_change\n",
    "    for i in range(len(profit)-1):\n",
    "        profit_change.append(profit[i+1]-profit[i])\n",
    "\n",
    "    max_increa=max(profit_change)\n",
    "#greates_decreas  \n",
    "    max_decrease=min(profit_change)\n",
    "#Avrage change\n",
    "    avrage_change=mean(profit_change)\n",
    "            "
   ]
  },
  {
   "cell_type": "code",
   "execution_count": 5,
   "id": "99ee6981",
   "metadata": {},
   "outputs": [
    {
     "name": "stdout",
     "output_type": "stream",
     "text": [
      "Financial Analysis\n",
      "-------------------\n",
      "Total month: 0\n",
      "Total : 0\n"
     ]
    },
    {
     "ename": "NameError",
     "evalue": "name 'avrage_change' is not defined",
     "output_type": "error",
     "traceback": [
      "\u001b[0;31m---------------------------------------------------------------------------\u001b[0m",
      "\u001b[0;31mNameError\u001b[0m                                 Traceback (most recent call last)",
      "\u001b[0;32m<ipython-input-5-21c83b85ebad>\u001b[0m in \u001b[0;36m<module>\u001b[0;34m\u001b[0m\n\u001b[1;32m      3\u001b[0m \u001b[0mprint\u001b[0m\u001b[0;34m(\u001b[0m\u001b[0;34mf\"Total month: {len(date)}\"\u001b[0m\u001b[0;34m)\u001b[0m\u001b[0;34m\u001b[0m\u001b[0;34m\u001b[0m\u001b[0m\n\u001b[1;32m      4\u001b[0m \u001b[0mprint\u001b[0m\u001b[0;34m(\u001b[0m\u001b[0;34mf\"Total : {sum(profit)}\"\u001b[0m\u001b[0;34m)\u001b[0m\u001b[0;34m\u001b[0m\u001b[0;34m\u001b[0m\u001b[0m\n\u001b[0;32m----> 5\u001b[0;31m \u001b[0mprint\u001b[0m\u001b[0;34m(\u001b[0m\u001b[0;34mf\"Average  Change :{round(avrage_change,2)}\"\u001b[0m\u001b[0;34m)\u001b[0m\u001b[0;34m\u001b[0m\u001b[0;34m\u001b[0m\u001b[0m\n\u001b[0m\u001b[1;32m      6\u001b[0m \u001b[0mprint\u001b[0m\u001b[0;34m(\u001b[0m\u001b[0;34mf\"Greatest Increase in Profits: {date[profit_change.index(max(profit_change))+1]},({max_increa}\"\u001b[0m\u001b[0;34m)\u001b[0m\u001b[0;34m\u001b[0m\u001b[0;34m\u001b[0m\u001b[0m\n\u001b[1;32m      7\u001b[0m \u001b[0mprint\u001b[0m\u001b[0;34m(\u001b[0m\u001b[0;34mf\"Greatest Decrease in Profit: {date[profit_change.index(min(profit_change))+1]},({max_decrease}\"\u001b[0m\u001b[0;34m)\u001b[0m\u001b[0;34m\u001b[0m\u001b[0;34m\u001b[0m\u001b[0m\n",
      "\u001b[0;31mNameError\u001b[0m: name 'avrage_change' is not defined"
     ]
    }
   ],
   "source": [
    "print(\"Financial Analysis\")\n",
    "print(\"-------------------\")\n",
    "print(f\"Total month: {len(date)}\")\n",
    "print(f\"Total : {sum(profit)}\")\n",
    "print(f\"Average  Change :{round(avrage_change,2)}\")\n",
    "print(f\"Greatest Increase in Profits: {date[profit_change.index(max(profit_change))+1]},({max_increa}\")\n",
    "print(f\"Greatest Decrease in Profit: {date[profit_change.index(min(profit_change))+1]},({max_decrease}\")"
   ]
  },
  {
   "cell_type": "code",
   "execution_count": 13,
   "id": "5f094c07",
   "metadata": {},
   "outputs": [
    {
     "ename": "SyntaxError",
     "evalue": "EOL while scanning string literal (<ipython-input-13-13e16ddfa70c>, line 15)",
     "output_type": "error",
     "traceback": [
      "\u001b[0;36m  File \u001b[0;32m\"<ipython-input-13-13e16ddfa70c>\"\u001b[0;36m, line \u001b[0;32m15\u001b[0m\n\u001b[0;31m    new.write(f\"Greatest Decrease in Profits: {date[profit_change.index(min(profit_change))+1]},({max_decrease})\\\")\u001b[0m\n\u001b[0m                                                                                                                   ^\u001b[0m\n\u001b[0;31mSyntaxError\u001b[0m\u001b[0;31m:\u001b[0m EOL while scanning string literal\n"
     ]
    }
   ],
   "source": [
    "output = result.txt\n",
    "with open(\"result\",\"w\") as new:\n",
    "        new.write(\"Financial Analysis\")\n",
    "        new.write(\"\\n\")\n",
    "        new.write(\"--------------------\")\n",
    "        new.write(\"\\n\")\n",
    "        new.write(f\"Total month: {len(date)}\")\n",
    "        new.write(\"\\n\")\n",
    "        new.write(f\"Total: ${sum(profit)}\")\n",
    "        new.write(\"\\n\")\n",
    "        new.write(f\"Average Change: {round(avrage_change,2)}\")\n",
    "        new.write(\"\\n\")\n",
    "        new.write(f\"Greatest Increase in Profits: {date[profit_change.index(max(profit_change))+1]},({max_increa})\")\n",
    "        new.write(\"\\n\")\n",
    "        new.write(f\"Greatest Decrease in Profits: {date[profit_change.index(min(profit_change))+1]},({max_decrease})\\\")\n",
    "   "
   ]
  },
  {
   "cell_type": "code",
   "execution_count": null,
   "id": "f9480479",
   "metadata": {},
   "outputs": [],
   "source": []
  }
 ],
 "metadata": {
  "kernelspec": {
   "display_name": "Python 3",
   "language": "python",
   "name": "python3"
  },
  "language_info": {
   "codemirror_mode": {
    "name": "ipython",
    "version": 3
   },
   "file_extension": ".py",
   "mimetype": "text/x-python",
   "name": "python",
   "nbconvert_exporter": "python",
   "pygments_lexer": "ipython3",
   "version": "3.8.8"
  }
 },
 "nbformat": 4,
 "nbformat_minor": 5
}
