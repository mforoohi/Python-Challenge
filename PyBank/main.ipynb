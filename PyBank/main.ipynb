{
 "cells": [
  {
   "cell_type": "code",
   "execution_count": 29,
   "id": "936e485a",
   "metadata": {},
   "outputs": [],
   "source": [
    "import os\n",
    "import csv \n",
    "from statistics import mean"
   ]
  },
  {
   "cell_type": "code",
   "execution_count": 30,
   "id": "2b564eeb",
   "metadata": {},
   "outputs": [],
   "source": [
    "budget_data_path=os.path.join('Resources','budget_data.csv')"
   ]
  },
  {
   "cell_type": "code",
   "execution_count": 31,
   "id": "53299866",
   "metadata": {},
   "outputs": [],
   "source": [
    "date=[]\n",
    "profit=[]\n",
    "profit_change=[]\n"
   ]
  },
  {
   "cell_type": "code",
   "execution_count": 35,
   "id": "9f72b30b",
   "metadata": {},
   "outputs": [],
   "source": [
    "with open (budget_data_path) as bank_data_file:\n",
    "    csvreader=csv.reader(bank_data_file, delimiter=',')\n",
    "    header=next(csvreader)\n",
    "    \n",
    "    for row in csvreader:\n",
    "            \n",
    "        date.append(row[0])\n",
    "    \n",
    "#total_revenue\n",
    "        profit.append(int(row[1]))\n",
    "                     \n",
    "#avrage_change\n",
    "    for i in range(len(profit)-1):\n",
    "        profit_change.append(profit[i+1]-profit[i])\n",
    "\n",
    "    max_increa=max(profit_change)\n",
    "#greates_decreas  \n",
    "    max_decrease=min(profit_change)\n",
    "#Avrage change\n",
    "    avrage_change=mean(profit_change)\n",
    "            "
   ]
  },
  {
   "cell_type": "code",
   "execution_count": 36,
   "id": "99ee6981",
   "metadata": {},
   "outputs": [
    {
     "name": "stdout",
     "output_type": "stream",
     "text": [
      "Financial Analysis\n",
      "-------------------\n",
      "Total month: 172\n",
      "Total : 76765156\n",
      "Average  Change :-1150.79\n",
      "Greatest Increase in Profits: Feb-2012,(1926159\n",
      "Greatest Decrease in Profit: Sep-2013,(-2196167\n"
     ]
    }
   ],
   "source": [
    "print(\"Financial Analysis\")\n",
    "print(\"-------------------\")\n",
    "print(f\"Total month: {len(date)}\")\n",
    "print(f\"Total : {sum(profit)}\")\n",
    "print(f\"Average  Change :{round(avrage_change,2)}\")\n",
    "print(f\"Greatest Increase in Profits: {date[profit_change.index(max(profit_change))+1]},({max_increa}\")\n",
    "print(f\"Greatest Decrease in Profit: {date[profit_change.index(min(profit_change))+1]},({max_decrease}\")"
   ]
  },
  {
   "cell_type": "code",
   "execution_count": 41,
   "id": "5f094c07",
   "metadata": {},
   "outputs": [],
   "source": [
    "output = os.path.join('analysis','result.txt')\n",
    "with open(output,\"w\") as new:\n",
    "        new.write(\"Financial Analysis\")\n",
    "        new.write(\"\\n\")\n",
    "        new.write(\"--------------------\")\n",
    "        new.write(\"\\n\")\n",
    "        new.write(f\"Total month: {len(date)}\")\n",
    "        new.write(\"\\n\")\n",
    "        new.write(f\"Total: ${sum(profit)}\")\n",
    "        new.write(\"\\n\")\n",
    "        new.write(f\"Average Change: {round(avrage_change,2)}\")\n",
    "        new.write(\"\\n\")\n",
    "        new.write(f\"Greatest Increase in Profits: {date[profit_change.index(max(profit_change))+1]},({max_increa})\")\n",
    "        new.write(\"\\n\")\n",
    "        new.write(f\"Greatest Decrease in Profits: {date[profit_change.index(min(profit_change))+1]},({max_decrease})\")\n",
    "   "
   ]
  },
  {
   "cell_type": "code",
   "execution_count": null,
   "id": "f9480479",
   "metadata": {},
   "outputs": [],
   "source": []
  }
 ],
 "metadata": {
  "kernelspec": {
   "display_name": "Python 3",
   "language": "python",
   "name": "python3"
  },
  "language_info": {
   "codemirror_mode": {
    "name": "ipython",
    "version": 3
   },
   "file_extension": ".py",
   "mimetype": "text/x-python",
   "name": "python",
   "nbconvert_exporter": "python",
   "pygments_lexer": "ipython3",
   "version": "3.8.8"
  }
 },
 "nbformat": 4,
 "nbformat_minor": 5
}
